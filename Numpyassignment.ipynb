{
  "nbformat": 4,
  "nbformat_minor": 0,
  "metadata": {
    "colab": {
      "provenance": []
    },
    "kernelspec": {
      "name": "python3",
      "display_name": "Python 3"
    },
    "language_info": {
      "name": "python"
    }
  },
  "cells": [
    {
      "cell_type": "code",
      "execution_count": 1,
      "metadata": {
        "colab": {
          "base_uri": "https://localhost:8080/"
        },
        "id": "IwEvnU5wtLL0",
        "outputId": "7b3a9ca8-9eb1-4ec1-b305-c1cfdb40ed38"
      },
      "outputs": [
        {
          "output_type": "stream",
          "name": "stdout",
          "text": [
            "[0. 0. 0. 0. 1. 0. 0. 0. 0. 0.]\n"
          ]
        }
      ],
      "source": [
        "#1. Create a null vector of size 10 but the fifth value which is 1.\n",
        "import numpy as np\n",
        "\n",
        "null_vector = np.zeros(10)\n",
        "null_vector[4] = 1\n",
        "print(null_vector)"
      ]
    },
    {
      "cell_type": "code",
      "source": [
        "#2. Create a vector with values ranging from 10 to 49.\n",
        "import numpy as np\n",
        "\n",
        "vector = np.arange(10,50)\n",
        "\n",
        "print(vector)"
      ],
      "metadata": {
        "colab": {
          "base_uri": "https://localhost:8080/"
        },
        "id": "KF0IBztWt4q9",
        "outputId": "76adc360-a3dc-4ec1-ee82-41aabef1eebc"
      },
      "execution_count": 2,
      "outputs": [
        {
          "output_type": "stream",
          "name": "stdout",
          "text": [
            "[10 11 12 13 14 15 16 17 18 19 20 21 22 23 24 25 26 27 28 29 30 31 32 33\n",
            " 34 35 36 37 38 39 40 41 42 43 44 45 46 47 48 49]\n"
          ]
        }
      ]
    },
    {
      "cell_type": "code",
      "source": [
        "#3. Create a 3x3 matrix with values ranging from 0 to 8\n",
        "import numpy as np\n",
        "\n",
        "matrix = np.arange(9)\n",
        "\n",
        "my_matrix = matrix.reshape(3,3)\n",
        "\n",
        "print(my_matrix)"
      ],
      "metadata": {
        "colab": {
          "base_uri": "https://localhost:8080/"
        },
        "id": "YHZJSLHNDWnp",
        "outputId": "24589c91-7a51-4cdf-adc9-cf310c0c0d63"
      },
      "execution_count": 3,
      "outputs": [
        {
          "output_type": "stream",
          "name": "stdout",
          "text": [
            "[[0 1 2]\n",
            " [3 4 5]\n",
            " [6 7 8]]\n"
          ]
        }
      ]
    },
    {
      "cell_type": "code",
      "source": [
        "#4. Find indices of non-zero elements from [1,2,0,0,4,0]\n",
        "import numpy as np\n",
        "\n",
        "my_array = np.array([1,2,0,0,4,0])\n",
        "\n",
        "non_zeroindices = np.nonzero(my_array)\n",
        "\n",
        "print([non_zeroindices])"
      ],
      "metadata": {
        "colab": {
          "base_uri": "https://localhost:8080/"
        },
        "id": "FyjwjUwJDhji",
        "outputId": "355031f1-ce9b-4083-f9c9-4b25f54f8090"
      },
      "execution_count": 4,
      "outputs": [
        {
          "output_type": "stream",
          "name": "stdout",
          "text": [
            "[(array([0, 1, 4]),)]\n"
          ]
        }
      ]
    },
    {
      "cell_type": "code",
      "source": [
        "#5. Create a 10x10 array with random values and find the minimum and maximum values.\n",
        "import numpy as np\n",
        "\n",
        "random_array = np.random.rand(10,10)\n",
        "\n",
        "max_value = np.max(random_array)\n",
        "min_value = np.min(random_array)\n",
        "\n",
        "print(max_value)\n",
        "print(min_value)\n"
      ],
      "metadata": {
        "colab": {
          "base_uri": "https://localhost:8080/"
        },
        "id": "zW3lPHWKDnBw",
        "outputId": "b4556c77-b5a8-40b6-86b0-5f7be4b5a3f3"
      },
      "execution_count": 5,
      "outputs": [
        {
          "output_type": "stream",
          "name": "stdout",
          "text": [
            "0.9998178128037962\n",
            "0.014308872043295118\n"
          ]
        }
      ]
    },
    {
      "cell_type": "code",
      "source": [
        "#6. Create a random vector of size 30 and find the mean value.\n",
        "import numpy as np\n",
        "\n",
        "random_vector = np.random.rand(30)\n",
        "\n",
        "mean_value = np.mean(random_vector)\n",
        "\n",
        "print(mean_value)"
      ],
      "metadata": {
        "colab": {
          "base_uri": "https://localhost:8080/"
        },
        "id": "MFu2wgshDyeI",
        "outputId": "a1f1dc53-6532-43c0-be15-1cbc77bc1adb"
      },
      "execution_count": 6,
      "outputs": [
        {
          "output_type": "stream",
          "name": "stdout",
          "text": [
            "0.5481570185818269\n"
          ]
        }
      ]
    }
  ]
}